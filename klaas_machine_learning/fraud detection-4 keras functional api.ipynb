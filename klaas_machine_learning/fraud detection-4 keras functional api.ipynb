{
 "cells": [
  {
   "cell_type": "markdown",
   "metadata": {},
   "source": [
    "## Create Keras model using functional API\n",
    "\n",
    "### Neural Network Embeddings\n",
    "An embedding is a mapping of a discrete — categorical — variable to a vector of continuous numbers. In the context of neural networks, embeddings are low-dimensional, learned continuous vector representations of discrete variables. Neural network embeddings are useful because \n",
    "- they can reduce the dimensionality of categorical variables and \n",
    "- reduce sparsity in input activations, which helps reduce overfitting "
   ]
  },
  {
   "cell_type": "code",
   "execution_count": null,
   "metadata": {},
   "outputs": [],
   "source": [
    "import pandas as pd\n",
    "import numpy as np\n",
    "%matplotlib inline\n",
    "\n",
    "%run utils.ipynb\n",
    "df = testimon_fraud()"
   ]
  },
  {
   "cell_type": "code",
   "execution_count": null,
   "metadata": {},
   "outputs": [],
   "source": [
    "from keras.layers import *\n",
    "from keras.models import *\n",
    "\n",
    "# Create first layer for the categorical variable\n",
    "\n",
    "num_types = len(df['type'].unique()) \n",
    "type_embedding_dim = 3 # arbitrary choice\n",
    "\n",
    "type_in = Input(shape=(1,))\n",
    "type_embedding = Embedding(num_types,type_embedding_dim,input_length=1)(type_in)\n",
    "type_out = Reshape(target_shape=(type_embedding_dim,))(type_embedding)\n",
    "\n",
    "type_model = Model(type_in,type_out)\n",
    "\n",
    "inputs = []\n",
    "outputs = []\n",
    "inputs.append(type_in)\n",
    "outputs.append(type_out)\n",
    "\n"
   ]
  },
  {
   "cell_type": "code",
   "execution_count": null,
   "metadata": {},
   "outputs": [],
   "source": [
    "# Create another input for all other variables (non-categorial ones)\n",
    "\n",
    "other_cols = ['step', 'amount', 'oldbalanceOrg', 'newbalanceOrig', 'oldbalanceDest', 'newbalanceDest']\n",
    "df['nameOrig'] = df.nameOrig.astype('category')\n",
    "df['nameDest'] = df.nameDest.astype('category')\n",
    "print(other_cols)\n",
    "num_rest = len(other_cols)\n",
    "\n",
    "rest_in = Input(shape = (num_rest,)) \n",
    "rest_out = Dense(16)(rest_in)\n",
    "\n",
    "rest_model = Model(rest_in,rest_out)\n",
    "\n",
    "inputs.append(rest_in)\n",
    "outputs.append(rest_out)"
   ]
  },
  {
   "cell_type": "code",
   "execution_count": null,
   "metadata": {},
   "outputs": [],
   "source": [
    "# Build the model\n",
    "concatenated = Concatenate()(outputs)\n",
    "x = Dense(16)(concatenated)\n",
    "x = Activation('sigmoid')(x)\n",
    "x = Dense(1)(concatenated)\n",
    "model_out = Activation('sigmoid')(x)\n",
    "\n",
    "merged_model = Model(inputs, model_out)\n",
    "merged_model.compile(loss='binary_crossentropy',optimizer='adam', metrics=['accuracy'])\n"
   ]
  },
  {
   "cell_type": "code",
   "execution_count": null,
   "metadata": {},
   "outputs": [],
   "source": [
    "# Train the model\n",
    "types = df.type.astype('category').cat.codes\n",
    "rest = df[other_cols]\n",
    "target = df['isFraud']\n",
    "history = merged_model.fit([types.values,rest.values],target.values, epochs = 1, batch_size = 128)\n"
   ]
  }
 ],
 "metadata": {
  "kernelspec": {
   "display_name": "Python 3",
   "language": "python",
   "name": "python3"
  },
  "language_info": {
   "codemirror_mode": {
    "name": "ipython",
    "version": 3
   },
   "file_extension": ".py",
   "mimetype": "text/x-python",
   "name": "python",
   "nbconvert_exporter": "python",
   "pygments_lexer": "ipython3",
   "version": "3.5.2"
  }
 },
 "nbformat": 4,
 "nbformat_minor": 2
}
