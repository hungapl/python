{
 "cells": [
  {
   "cell_type": "markdown",
   "metadata": {},
   "source": [
    "## Simple neural network in Python\n",
    "\n",
    "The simplest neural network is a logistic regressor.  A logistic regression takes in values of any range by only outputs values between 0 and 1.  If X is the input and y is the desired output, then we want to find a close approximation function for the function f where\n",
    "\n",
    "y = f(X)\n",
    "\n",
    "Let's say X is the input vector with 3 components X1, X2, X3.  W is a vector of three weights.  To compute the output of the regressor, we must first do a **linear step**:\n",
    "z = X.W + b\n",
    "where b is the **bias** which shift the output by a constant value\n",
    "Next, we perform a **nonlinear step**:\n",
    "o = A(z)\n",
    "where A is a **activation function**, in this case a sigmoid function that transforms *z( to a set of values *o* that ranges from 0 to 1.\n"
   ]
  },
  {
   "cell_type": "code",
   "execution_count": 1,
   "metadata": {},
   "outputs": [
    {
     "name": "stdout",
     "output_type": "stream",
     "text": [
      "[[0.60841366]\n",
      " [0.45860596]\n",
      " [0.3262757 ]\n",
      " [0.36375058]]\n"
     ]
    }
   ],
   "source": [
    "import numpy as np\n",
    "np.random.seed(1)\n",
    "\n",
    "# Define input X and desired output y\n",
    "X = np.array([[0, 1, 0], [1, 0, 0], [1, 1, 1], [0, 1, 1]])\n",
    "y = np.array([[0, 1, 1, 0]]).T\n",
    "\n",
    "# Define sigmoid function\n",
    "def sigmoid(x):\n",
    "    return 1/(1+np.exp(-x))\n",
    "\n",
    "# Starts with random weights and bias=0\n",
    "W = 2*np.random.random((3,1) )- 1 # Random values to have a mean of 0 and a sd of 1\n",
    "b = 0\n",
    "\n",
    "# Attempt 1:\n",
    "# Linear step\n",
    "z = X.dot(W) + b\n",
    "# Non linear step\n",
    "o = sigmoid(z)\n",
    "print (o)\n"
   ]
  },
  {
   "cell_type": "markdown",
   "metadata": {},
   "source": [
    "## Optimising Model Parameters\n",
    "We need to search for better weights and bias (collectively known as parameters) to arrive at a closer approximation function f^ of our desired function f.  \n",
    "\n",
    "We know that:\n",
    "\n",
    "y = f(X)\n",
    "\n",
    "and \n",
    "\n",
    "y^ = f^(X)\n",
    "\n",
    "We can try to find f^ by minimising:\n",
    "\n",
    "D(y, y^)\n",
    "\n",
    "where f^ belongs to H (H=**hypothesis space**)\n",
    "\n",
    "D is referred as the **loss function**\n"
   ]
  },
  {
   "cell_type": "markdown",
   "metadata": {},
   "source": [
    "## Loss function\n",
    "For a binary classification problem, we can use the binary cross entropy loss"
   ]
  },
  {
   "cell_type": "code",
   "execution_count": 11,
   "metadata": {},
   "outputs": [
    {
     "name": "stdout",
     "output_type": "stream",
     "text": [
      "0.8223225820877986\n"
     ]
    }
   ],
   "source": [
    "def bce_loss(y,y_hat):\n",
    "    N = y.shape[0]\n",
    "    loss = -1/N * np.sum((y*np.log(y_hat) + (1 - y)*np.log(1-y_hat)))\n",
    "    return loss\n",
    "\n",
    "# Loss for our initial approximation \n",
    "print(bce_loss(y, o))"
   ]
  },
  {
   "cell_type": "markdown",
   "metadata": {},
   "source": [
    "## Gradient descent\n",
    "Most popular optimization algorithm for neural network is the **gradient descent**.  This method requires that the loss function has a derivative with respect to the parameters that we want to optimize.  \n",
    "\n",
    "**Backpropgation** allow us to apply gradient updates to the parameters of a model.\n",
    "\n",
    "???\n",
    "\n",
    "Next, we update the weights and bias by dW and db as follows:\n",
    "W -= alpha * dW\n",
    "b -= alpha * db\n",
    "where alpha is known as the learning rate\n",
    "\n"
   ]
  },
  {
   "cell_type": "code",
   "execution_count": 15,
   "metadata": {},
   "outputs": [
    {
     "name": "stdout",
     "output_type": "stream",
     "text": [
      "Epoch: 0 Loss: 0.026537075428239687\n",
      "Epoch: 1 Loss: 0.026373841657907612\n",
      "Epoch: 2 Loss: 0.026212612567007205\n",
      "Epoch: 3 Loss: 0.026053351451793622\n",
      "Epoch: 4 Loss: 0.025896022498114624\n",
      "Epoch: 5 Loss: 0.025740590754659953\n",
      "Epoch: 6 Loss: 0.025587022107170322\n",
      "Epoch: 7 Loss: 0.025435283253563076\n",
      "Epoch: 8 Loss: 0.02528534167993967\n",
      "Epoch: 9 Loss: 0.025137165637436128\n",
      "Epoch: 10 Loss: 0.024990724119884265\n",
      "Epoch: 11 Loss: 0.024845986842249427\n",
      "Epoch: 12 Loss: 0.024702924219814605\n",
      "Epoch: 13 Loss: 0.024561507348079537\n",
      "Epoch: 14 Loss: 0.024421707983347987\n",
      "Epoch: 15 Loss: 0.02428349852397478\n",
      "Epoch: 16 Loss: 0.024146851992246962\n",
      "Epoch: 17 Loss: 0.02401174201687461\n",
      "Epoch: 18 Loss: 0.023878142816066417\n",
      "Epoch: 19 Loss: 0.023746029181169172\n"
     ]
    },
    {
     "data": {
      "image/png": "[encoded data removed]",
      "text/plain": [
       "<matplotlib.figure.Figure at 0x7f8829be5278>"
      ]
     },
     "metadata": {},
     "output_type": "display_data"
    }
   ],
   "source": [
    "## Attempt 2 : Parametre optimisation using Gradient Descent \n",
    "alpha = 1\n",
    "epochs = 20\n",
    "N = y.shape[0]\n",
    "losses = []\n",
    "for i in range(epochs):\n",
    "    # Forward pass\n",
    "    z = X.dot(W) + b \n",
    "    A = sigmoid(z)\n",
    "    \n",
    "    # Calculate loss\n",
    "    loss = bce_loss(y,A)\n",
    "    print('Epoch:',i,'Loss:',loss)\n",
    "    losses.append(loss)\n",
    "    \n",
    "    # Calculate derivatives\n",
    "    dz = (A - y)\n",
    "    dW = 1/N * np.dot(X.T,dz)\n",
    "    db = 1/N * np.sum(dz,axis=0,keepdims=True)    \n",
    "    \n",
    "    # Parameter updates#\n",
    "    W -= alpha * dW\n",
    "    b -= alpha * db\n",
    "\n",
    "import matplotlib.pyplot as plt\n",
    "%matplotlib inline\n",
    "plt.plot(losses)\n",
    "plt.xlabel('epoch')\n",
    "plt.ylabel('loss')\n",
    "plt.show()"
   ]
  },
  {
   "cell_type": "code",
   "execution_count": null,
   "metadata": {},
   "outputs": [],
   "source": []
  }
 ],
 "metadata": {
  "kernelspec": {
   "display_name": "Python 3",
   "language": "python",
   "name": "python3"
  },
  "language_info": {
   "codemirror_mode": {
    "name": "ipython",
    "version": 3
   },
   "file_extension": ".py",
   "mimetype": "text/x-python",
   "name": "python",
   "nbconvert_exporter": "python",
   "pygments_lexer": "ipython3",
   "version": "3.5.2"
  }
 },
 "nbformat": 4,
 "nbformat_minor": 2
}
