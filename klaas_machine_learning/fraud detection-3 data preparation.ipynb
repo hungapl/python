{
 "cells": [
  {
   "cell_type": "markdown",
   "metadata": {},
   "source": [
    "# Prepare Data for Keras\n",
    "\n",
    "There are 3 types of data:\n",
    "- **Nominal category** - a group of objects that can be collectively grouped on the basis of a particular characteristics -a qualitative property\n",
    "- **Ordinal data** - is a categorical data type where the variables have natural orderd categories and the distances between the categories is not known\n",
    "- **Numerical data**\n"
   ]
  },
  {
   "cell_type": "code",
   "execution_count": 1,
   "metadata": {},
   "outputs": [],
   "source": [
    "import pandas as pd\n",
    "import numpy as np\n",
    "%matplotlib inline\n",
    "\n",
    "%run utils.ipynb\n",
    "df = testimon_fraud()"
   ]
  },
  {
   "cell_type": "code",
   "execution_count": 2,
   "metadata": {},
   "outputs": [
    {
     "name": "stdout",
     "output_type": "stream",
     "text": [
      "0    Type_TRANSFER\n",
      "1    Type_CASH_OUT\n",
      "2    Type_CASH_OUT\n",
      "3    Type_TRANSFER\n",
      "4    Type_TRANSFER\n",
      "Name: type, dtype: object\n",
      "   Type_CASH_OUT  Type_TRANSFER\n",
      "0              0              1\n",
      "1              1              0\n",
      "2              1              0\n",
      "3              0              1\n",
      "4              0              1\n"
     ]
    }
   ],
   "source": [
    "# Example 1 - One-hot encoding of a categorical variable\n",
    "type_dummies = 'Type_' + df['type'].astype(str)\n",
    "print(type_dummies.head())\n",
    "dummies = pd.get_dummies(type_dummies)\n",
    "print(dummies.head(5))"
   ]
  },
  {
   "cell_type": "code",
   "execution_count": 3,
   "metadata": {},
   "outputs": [
    {
     "name": "stdout",
     "output_type": "stream",
     "text": [
      "0    TRANSFER\n",
      "1    CASH_OUT\n",
      "2    CASH_OUT\n",
      "3    TRANSFER\n",
      "4    TRANSFER\n",
      "Name: type, dtype: category\n",
      "Categories (2, object): [CASH_OUT, TRANSFER]\n",
      "0    1\n",
      "1    0\n",
      "2    0\n",
      "3    1\n",
      "4    1\n",
      "dtype: int8\n"
     ]
    }
   ],
   "source": [
    "# Example 2 - Map categories to integer values\n",
    "types = df.type.astype('category')\n",
    "print(types.head(5))\n",
    "print(types.cat.codes.head(5))"
   ]
  },
  {
   "cell_type": "markdown",
   "metadata": {},
   "source": [
    "c"
   ]
  },
  {
   "cell_type": "code",
   "execution_count": 4,
   "metadata": {},
   "outputs": [
    {
     "name": "stderr",
     "output_type": "stream",
     "text": [
      "Using TensorFlow backend.\n"
     ]
    },
    {
     "name": "stdout",
     "output_type": "stream",
     "text": [
      "[<tf.Tensor 'input_1:0' shape=(?, 1) dtype=float32>]\n"
     ]
    }
   ],
   "source": [
    "from keras.layers import *\n",
    "from keras.models import *\n",
    "\n",
    "# Create first layer for the categorical variable\n",
    "\n",
    "num_types = len(df['type'].unique()) \n",
    "type_embedding_dim = 3 # arbitrary choice\n",
    "\n",
    "type_in = Input(shape=(1,))\n",
    "type_embedding = Embedding(num_types,type_embedding_dim,input_length=1)(type_in)\n",
    "type_out = Reshape(target_shape=(type_embedding_dim,))(type_embedding)\n",
    "\n",
    "type_model = Model(type_in,type_out)\n",
    "\n",
    "inputs = []\n",
    "outputs = []\n",
    "inputs.append(type_in)\n",
    "outputs.append(type_out)\n",
    "\n",
    "print(inputs)"
   ]
  },
  {
   "cell_type": "code",
   "execution_count": 5,
   "metadata": {},
   "outputs": [
    {
     "name": "stdout",
     "output_type": "stream",
     "text": [
      "['step', 'amount', 'oldbalanceOrg', 'newbalanceOrig', 'oldbalanceDest', 'newbalanceDest']\n"
     ]
    }
   ],
   "source": [
    "# Create another input for all other variables (non-categorial ones)\n",
    "\n",
    "other_cols = ['step', 'amount', 'oldbalanceOrg', 'newbalanceOrig', 'oldbalanceDest', 'newbalanceDest']\n",
    "df['nameOrig'] = df.nameOrig.astype('category')\n",
    "df['nameDest'] = df.nameDest.astype('category')\n",
    "print(other_cols)\n",
    "num_rest = len(other_cols)\n",
    "\n",
    "rest_in = Input(shape = (num_rest,)) \n",
    "rest_out = Dense(16)(rest_in)\n",
    "\n",
    "rest_model = Model(rest_in,rest_out)\n",
    "\n",
    "inputs.append(rest_in)\n",
    "outputs.append(rest_out)"
   ]
  },
  {
   "cell_type": "code",
   "execution_count": 6,
   "metadata": {},
   "outputs": [],
   "source": [
    "# Build the model\n",
    "concatenated = Concatenate()(outputs)\n",
    "x = Dense(16)(concatenated)\n",
    "x = Activation('sigmoid')(x)\n",
    "x = Dense(1)(concatenated)\n",
    "model_out = Activation('sigmoid')(x)\n",
    "\n",
    "merged_model = Model(inputs, model_out)\n",
    "merged_model.compile(loss='binary_crossentropy',optimizer='adam', metrics=['accuracy'])\n"
   ]
  },
  {
   "cell_type": "code",
   "execution_count": 12,
   "metadata": {},
   "outputs": [
    {
     "name": "stdout",
     "output_type": "stream",
     "text": [
      "Epoch 1/1\n",
      "1048575/1048575 [==============================] - 11s 10us/step - loss: 0.0347 - acc: 0.9978\n"
     ]
    }
   ],
   "source": [
    "# Train the model\n",
    "types = df.type.astype('category').cat.codes\n",
    "rest = df[other_cols]\n",
    "target = df['isFraud']\n",
    "history = merged_model.fit([types.values,rest.values],target.values, epochs = 1, batch_size = 128)\n"
   ]
  },
  {
   "cell_type": "code",
   "execution_count": null,
   "metadata": {},
   "outputs": [],
   "source": []
  }
 ],
 "metadata": {
  "kernelspec": {
   "display_name": "Python 3",
   "language": "python",
   "name": "python3"
  },
  "language_info": {
   "codemirror_mode": {
    "name": "ipython",
    "version": 3
   },
   "file_extension": ".py",
   "mimetype": "text/x-python",
   "name": "python",
   "nbconvert_exporter": "python",
   "pygments_lexer": "ipython3",
   "version": "3.7.3"
  }
 },
 "nbformat": 4,
 "nbformat_minor": 2
}
