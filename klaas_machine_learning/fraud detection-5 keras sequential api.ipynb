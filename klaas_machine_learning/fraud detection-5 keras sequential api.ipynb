{
 "cells": [
  {
   "cell_type": "code",
   "execution_count": null,
   "metadata": {},
   "outputs": [],
   "source": [
    "import pandas as pd\n",
    "import numpy as np\n",
    "%matplotlib inline\n",
    "\n",
    "%run utils.ipynb\n",
    "df = testimon_fraud()"
   ]
  },
  {
   "cell_type": "markdown",
   "metadata": {},
   "source": [
    "**training dataset** - a set of examples used to fit the parametres\n",
    "**validation dataset** - provides an unbiased evaluation of a model fit while tuning the models' hyperparameters.  This dataset can be used for regularization by early stopping \n",
    "**test dataset** is a dataset used to provide an evaluation of a final model fit on the training dataset."
   ]
  },
  {
   "cell_type": "code",
   "execution_count": null,
   "metadata": {},
   "outputs": [],
   "source": [
    "# Generate test set\n",
    "y = df['isFraud'].values # npdarray\n",
    "x = df.drop('isFraud',axis=1).values # npdarray\n",
    "\n",
    "from sklearn.model_selection import train_test_split\n",
    "\n",
    "# Assigning random_state makes sure that although the process is pseudo-random, \n",
    "# it will always return the same split, which makes our work more reproducible\n",
    "X_train, X_test, y_train, y_test = train_test_split(X, y, test_size=0.33, random_state=42)\n",
    "\n",
    "# Generate validation set\n",
    "X_train, X_val, y_train, y_val = train_test_split(X_train, y_train, test_size=0.1, random_state=42)\n"
   ]
  },
  {
   "cell_type": "markdown",
   "metadata": {},
   "source": [
    "## Oversampling\n",
    "Oversampling is useful when the dataset has imbalanced.  In this case, the fraction of fraudulent transactions is "
   ]
  }
 ],
 "metadata": {
  "kernelspec": {
   "display_name": "Python 3",
   "language": "python",
   "name": "python3"
  },
  "language_info": {
   "codemirror_mode": {
    "name": "ipython",
    "version": 3
   },
   "file_extension": ".py",
   "mimetype": "text/x-python",
   "name": "python",
   "nbconvert_exporter": "python",
   "pygments_lexer": "ipython3",
   "version": "3.5.2"
  }
 },
 "nbformat": 4,
 "nbformat_minor": 2
}
